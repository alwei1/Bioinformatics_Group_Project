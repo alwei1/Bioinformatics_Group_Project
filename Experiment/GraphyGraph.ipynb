{
 "cells": [
  {
   "cell_type": "code",
   "execution_count": 37,
   "metadata": {},
   "outputs": [],
   "source": [
    "import numpy as np\n",
    "import pandas as pd\n",
    "from plotnine import *\n",
    "import matplotlib.pyplot as plt"
   ]
  },
  {
   "cell_type": "code",
   "execution_count": 38,
   "metadata": {},
   "outputs": [],
   "source": [
    "data1 = pd.read_csv(\"TabulatedValControl1protein.csv\")\n",
    "data2 = pd.read_csv(\"TabulatedValControl2protein.csv\")\n",
    "data3 = pd.read_csv(\"TabulatedValObese1protein.csv\")\n",
    "data4 = pd.read_csv(\"TabulatedValObese2protein.csv\")"
   ]
  },
  {
   "cell_type": "code",
   "execution_count": 45,
   "metadata": {},
   "outputs": [],
   "source": [
    "data1a = data1.loc[0::2].astype(int)\n",
    "data2a = data2.loc[0::2].astype(int)\n",
    "data3a = data3.loc[0::2].astype(int)\n",
    "data4a = data4.loc[0::2].astype(int)"
   ]
  },
  {
   "cell_type": "code",
   "execution_count": 44,
   "metadata": {},
   "outputs": [
    {
     "name": "stdout",
     "output_type": "stream",
     "text": [
      "<type 'numpy.ndarray'>\n"
     ]
    },
    {
     "data": {
      "image/png": "[encoded data removed]",
      "text/plain": [
       "<Figure size 432x288 with 1 Axes>"
      ]
     },
     "metadata": {},
     "output_type": "display_data"
    }
   ],
   "source": [
    "# data to plot\n",
    "import matplotlib.pyplot as plt\n",
    "n_groups = 6\n",
    "Ctrl1 = (data1a.iloc[0,0],data1a.iloc[1,0],data1a.iloc[2,0],data1a.iloc[3,0],data1a.iloc[4,0],data1a.iloc[5,0])\n",
    "Ctrl2 = (data2a.iloc[0,0],data2a.iloc[1,0],data2a.iloc[2,0],data2a.iloc[3,0],data2a.iloc[4,0],data2a.iloc[5,0])\n",
    "Obese1 = (data3a.iloc[0,0],data3a.iloc[1,0],data3a.iloc[2,0],data3a.iloc[3,0],data3a.iloc[4,0],data3a.iloc[5,0])\n",
    "Obese2 = (data4a.iloc[0,0],data4a.iloc[1,0],data4a.iloc[2,0],data4a.iloc[3,0],data4a.iloc[4,0],data4a.iloc[5,0])\n",
    "\n",
    "# create plot\n",
    "fig, ax = plt.subplots()\n",
    "index = np.arange(n_groups)\n",
    "bar_width = 0.175\n",
    "opacity = 0.8\n",
    "\n",
    "print type(index)\n",
    "rects1 = plt.bar(index, Ctrl1, bar_width,\n",
    "                 alpha=opacity,\n",
    "                 color='b',\n",
    "                 label='Control1')\n",
    " \n",
    "rects2 = plt.bar(index + bar_width, Ctrl2, bar_width,\n",
    "                 alpha=opacity,\n",
    "                 color='g',\n",
    "                 label='Control2')\n",
    "\n",
    "rects3 = plt.bar(index + 2*bar_width, Obese1, bar_width,\n",
    "                 alpha=opacity,\n",
    "                 color='r',\n",
    "                 label='Obese1')\n",
    "rects4 = plt.bar(index + 3*bar_width, Obese2, bar_width,\n",
    "                 alpha=opacity,\n",
    "                 color='k',\n",
    "                 label='Obese2')\n",
    " \n",
    "plt.xlabel('Experiment')\n",
    "#plt.ylim(0,20)\n",
    "plt.ylabel('# Hits')\n",
    "plt.title('Expression Ratio in Obese vs non-Obese Mice')\n",
    "plt.xticks(index + bar_width, ('Sequence10', 'Sequence1', 'Sequence2', 'Sequence6','Sequence8','Sequence9'))\n",
    "plt.legend()\n",
    " \n",
    "plt.tight_layout()\n",
    "plt.show()"
   ]
  },
  {
   "cell_type": "code",
   "execution_count": 41,
   "metadata": {},
   "outputs": [
    {
     "name": "stdout",
     "output_type": "stream",
     "text": [
      "(15, 12, 12, 12, 18, 15)\n"
     ]
    }
   ],
   "source": []
  },
  {
   "cell_type": "code",
   "execution_count": null,
   "metadata": {},
   "outputs": [],
   "source": []
  },
  {
   "cell_type": "code",
   "execution_count": null,
   "metadata": {},
   "outputs": [],
   "source": []
  },
  {
   "cell_type": "code",
   "execution_count": null,
   "metadata": {},
   "outputs": [],
   "source": []
  }
 ],
 "metadata": {
  "kernelspec": {
   "display_name": "Python 2",
   "language": "python",
   "name": "python2"
  },
  "language_info": {
   "codemirror_mode": {
    "name": "ipython",
    "version": 2
   },
   "file_extension": ".py",
   "mimetype": "text/x-python",
   "name": "python",
   "nbconvert_exporter": "python",
   "pygments_lexer": "ipython2",
   "version": "2.7.15"
  }
 },
 "nbformat": 4,
 "nbformat_minor": 2
}
